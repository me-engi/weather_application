{
  "nbformat": 4,
  "nbformat_minor": 0,
  "metadata": {
    "colab": {
      "provenance": []
    },
    "kernelspec": {
      "name": "python3",
      "display_name": "Python 3"
    },
    "language_info": {
      "name": "python"
    }
  },
  "cells": [
    {
      "cell_type": "code",
      "execution_count": null,
      "metadata": {
        "id": "FA26_NrtCSxH"
      },
      "outputs": [],
      "source": [
        "import requests\n",
        "from pprint import pprint\n",
        "\n",
        "api_key = \"YOUR_API_KEY_HERE\"\n",
        "city = input(\"Enter city name: \")\n",
        "\n",
        "base_url = f\"http://api.openweathermap.org/data/2.5/weather?q={city}&appid={api_key}&units=metric\"\n",
        "\n",
        "weather_data = requests.get(base_url).json()\n",
        "\n",
        "pprint(weather_data)\n"
      ]
    }
  ]
}